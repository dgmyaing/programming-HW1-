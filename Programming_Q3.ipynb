{
  "nbformat": 4,
  "nbformat_minor": 0,
  "metadata": {
    "colab": {
      "provenance": [],
      "authorship_tag": "ABX9TyM8vF26E0CxNFwUt3TiIcwg",
      "include_colab_link": true
    },
    "kernelspec": {
      "name": "python3",
      "display_name": "Python 3"
    },
    "language_info": {
      "name": "python"
    }
  },
  "cells": [
    {
      "cell_type": "markdown",
      "metadata": {
        "id": "view-in-github",
        "colab_type": "text"
      },
      "source": [
        "<a href=\"https://colab.research.google.com/github/dgmyaing/programming-HW1-/blob/main/Programming_Q3.ipynb\" target=\"_parent\"><img src=\"https://colab.research.google.com/assets/colab-badge.svg\" alt=\"Open In Colab\"/></a>"
      ]
    },
    {
      "cell_type": "code",
      "execution_count": 7,
      "metadata": {
        "colab": {
          "base_uri": "https://localhost:8080/"
        },
        "id": "vP3hrg4aapp4",
        "outputId": "63ad0d56-a8d6-42d2-d893-87fbb9b82cd4"
      },
      "outputs": [
        {
          "output_type": "stream",
          "name": "stdout",
          "text": [
            "Sample Mean: -1.0899806430403438 \n",
            "\n",
            "Sample Standard Deviation: 3.2847981697718236 \n",
            "\n",
            "Z-scores: [-1.05060967 -0.74576403 -0.38160532  0.24681908  0.52189922  0.70940228\n",
            " -0.59306576  0.70489592  0.19667971] \n",
            "\n",
            "Covariance: -2.8396505928938773 \n",
            "\n",
            "Correlation: -0.42205093921264875 \n",
            "\n"
          ]
        }
      ],
      "source": [
        "import numpy as np\n",
        "np.random.seed(100)\n",
        "rho, sigma_x, sigma_y = -.4, 3, 2\n",
        "vcv = np.array([[sigma_x**2, rho*sigma_x*sigma_y],\n",
        "                [rho*sigma_x*sigma_y,sigma_y**2]])\n",
        "mu = np.array([-1,2])\n",
        "sample = np.random.multivariate_normal(mu,vcv,200)\n",
        "x = sample[:,0]\n",
        "y = sample[:,1]\n",
        "\n",
        "# P1\n",
        "def mean(x):\n",
        "    m = np.sum(x)/len(x)\n",
        "    return(m)\n",
        "print('Sample Mean:', mean(x),'\\n')\n",
        "\n",
        "# P2\n",
        "def sd(x):\n",
        "    N = len(x)\n",
        "    m = mean(x)\n",
        "    sumsqdiff = np.sum( (x-m)**2 )\n",
        "    sd = np.sqrt(sumsqdiff/(N-1))\n",
        "    return(sd)\n",
        "print('Sample Standard Deviation:', sd(x),'\\n')\n",
        "\n",
        "# P3\n",
        "def zscore(x):\n",
        "    z = (x-mean(x))/sd(x)\n",
        "    return(z)\n",
        "print('Z-scores:', zscore(x)[1:10],'\\n')\n",
        "\n",
        "# P4\n",
        "def cov(x,y):\n",
        "    N = len(x)\n",
        "    sumsqdiff = np.sum( (x-mean(x))*(y-mean(y)) )\n",
        "    c = sumsqdiff / (N-1)\n",
        "    return(c)\n",
        "print('Covariance:', cov(x,y),'\\n')\n",
        "\n",
        "# P5\n",
        "def corr(x,y):\n",
        "    cv = cov(x,y)\n",
        "    s_x = sd(x)\n",
        "    s_y = sd(y)\n",
        "    r = cv/(s_x*s_y)\n",
        "    return(r)\n",
        "print('Correlation:', corr(x,y),'\\n')"
      ]
    }
  ]
}